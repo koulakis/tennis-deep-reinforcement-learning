{
 "cells": [
  {
   "cell_type": "markdown",
   "metadata": {},
   "source": [
    "# Generate experiment graphs"
   ]
  },
  {
   "cell_type": "code",
   "execution_count": 1,
   "metadata": {},
   "outputs": [],
   "source": [
    "from pathlib import Path\n",
    "\n",
    "import pandas as pd\n",
    "import matplotlib.pyplot as plt\n",
    "import tensorflow as tf"
   ]
  },
  {
   "cell_type": "markdown",
   "metadata": {},
   "source": [
    "## Read data from events file"
   ]
  },
  {
   "cell_type": "code",
   "execution_count": 2,
   "metadata": {},
   "outputs": [],
   "source": [
    "def pandas_from_tf_events(path):\n",
    "    events = [e for e in tf.train.summary_iterator(str(path))]\n",
    "    \n",
    "    t0 = events[0].wall_time\n",
    "    \n",
    "    def event_to_dict(event):\n",
    "        summary = event.summary.value\n",
    "        \n",
    "        if len(summary) != 1:\n",
    "            raise ValueError(f'Found event with summary of length {len(summary)}. Expected length is 1.')\n",
    "        \n",
    "        return {'time_minutes': (event.wall_time - t0) / 60.0, 'step': event.step, summary[0].tag: summary[0].simple_value}\n",
    "        \n",
    "    \n",
    "    values_long = pd.DataFrame([\n",
    "        event_to_dict(e) \n",
    "        for e in events \n",
    "        if len(e.summary.value) >= 1])\n",
    "    \n",
    "    return values_long.groupby('step').mean().sort_index().reset_index()"
   ]
  },
  {
   "cell_type": "code",
   "execution_count": 16,
   "metadata": {},
   "outputs": [],
   "source": [
    "def plot_several_experiment_curves(\n",
    "        experiments, title, x_value='steps', save_name=None, xlim=None, colors=None):\n",
    "    plt.figure(figsize=(10, 5))\n",
    "    plt.title(title)\n",
    "    if xlim:\n",
    "        plt.xlim(xlim)\n",
    "    ylim = (0, 3)\n",
    "    plt.ylim(ylim)\n",
    "    if x_value == 'steps':\n",
    "        plt.xlabel('Number of steps')\n",
    "        x_index = 'step'\n",
    "    else:\n",
    "        plt.xlabel('Time elapsed in minutes')\n",
    "        x_index = 'time_minutes'\n",
    "    plt.ylabel('Average reward (100 episodes)')\n",
    "    \n",
    "    if colors is None:\n",
    "        colors = ['red', 'orange', 'green', 'blue', 'purple']\n",
    "    \n",
    "    for [title, path], color in zip(experiments, colors):\n",
    "        event_df = pandas_from_tf_events(path)\n",
    "        plt.plot(\n",
    "            event_df[x_index], \n",
    "            event_df['rollout/ep_rew_mean'],\n",
    "            label=title,\n",
    "            color=color)\n",
    "        episode_solutions = event_df[event_df['rollout/ep_rew_mean'] >= 0.5]\n",
    "        first_solution = None if len(episode_solutions) == 0 else episode_solutions.iloc[0][x_index]\n",
    "        \n",
    "        if first_solution:\n",
    "            plt.vlines(\n",
    "                first_solution, \n",
    "                *ylim, \n",
    "                color=color, \n",
    "                linestyle='--', \n",
    "                linewidth=1,\n",
    "                label=(\n",
    "                    f'solved at step {int(first_solution)}' \n",
    "                    if x_value == 'steps' \n",
    "                    else f'solved in {first_solution:.2f} minutes'))\n",
    "    \n",
    "    plt.legend()\n",
    "    if save_name:\n",
    "        plt.savefig(Path('../artifacts') / (save_name + '.png'))\n",
    "    plt.show()"
   ]
  },
  {
   "cell_type": "markdown",
   "metadata": {},
   "source": [
    "## SAC"
   ]
  },
  {
   "cell_type": "code",
   "execution_count": 17,
   "metadata": {},
   "outputs": [],
   "source": [
    "experiments_arch = [\n",
    "    ('SAC', '../experiments/sac_zoo/tensorboard_logs/SAC_3/events.out.tfevents.1592203502.mariosk-G3-3590.12021.0'),\n",
    "]"
   ]
  },
  {
   "cell_type": "code",
   "execution_count": 18,
   "metadata": {},
   "outputs": [
    {
     "data": {
      "image/png": "[encoded data removed]",
      "text/plain": [
       "<Figure size 720x360 with 1 Axes>"
      ]
     },
     "metadata": {
      "needs_background": "light"
     },
     "output_type": "display_data"
    }
   ],
   "source": [
    "plot_several_experiment_curves(\n",
    "    experiments_arch, \n",
    "    'SAC',\n",
    "    save_name='rewards_curve',\n",
    "    colors=['blue'])"
   ]
  }
 ],
 "metadata": {
  "kernelspec": {
   "display_name": "Python 3",
   "language": "python",
   "name": "python3"
  },
  "language_info": {
   "codemirror_mode": {
    "name": "ipython",
    "version": 3
   },
   "file_extension": ".py",
   "mimetype": "text/x-python",
   "name": "python",
   "nbconvert_exporter": "python",
   "pygments_lexer": "ipython3",
   "version": "3.6.10"
  }
 },
 "nbformat": 4,
 "nbformat_minor": 4
}
